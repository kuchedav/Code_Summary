{
 "cells": [
  {
   "cell_type": "code",
   "execution_count": 2,
   "metadata": {
    "collapsed": true
   },
   "outputs": [
    {
     "name": "stdout",
     "output_type": "stream",
     "text": [
      "hello\n"
     ]
    }
   ],
   "source": [
    "print(\"hello\")\n"
   ]
  },
  {
   "cell_type": "code",
   "execution_count": 12,
   "metadata": {
    "collapsed": true
   },
   "outputs": [
    {
     "data": {
      "text/plain": [
       "Date\n1981-01-01    20.7\n1981-01-02    17.9\n1981-01-03    18.8\n1981-01-04    14.6\n1981-01-05    15.8\n1981-01-06    15.8\n1981-01-07    15.8\n1981-01-08    17.4\n1981-01-09    21.8\n1981-01-10    20.0\n1981-01-11    16.2\n1981-01-12    13.3\n1981-01-13    16.7\n1981-01-14    21.5\n1981-01-15    25.0\n1981-01-16    20.7\n1981-01-17    20.6\n1981-01-18    24.8\n1981-01-19    17.7\n1981-01-20    15.5\n1981-01-21    18.2\n1981-01-22    12.1\n1981-01-23    14.4\n1981-01-24    16.0\n1981-01-25    16.5\n1981-01-26    18.7\n1981-01-27    19.4\n1981-01-28    17.2\n1981-01-29    15.5\n1981-01-30    15.1\n              ... \n1981-08-29     8.1\n1981-08-30     5.5\n1981-08-31     6.2\n1981-09-01     8.0\n1981-09-02    10.3\n1981-09-03     9.8\n1981-09-04     9.6\n1981-09-05     8.5\n1981-09-06     7.5\n1981-09-07    11.2\n1981-09-08    14.6\n1981-09-09    11.7\n1981-09-10     7.8\n1981-09-11    12.3\n1981-09-12    10.1\n1981-09-13    11.5\n1981-09-14     7.3\n1981-09-15    10.9\n1981-09-16    14.1\n1981-09-17    10.7\n1981-09-18    16.9\n1981-09-19    10.5\n1981-09-20     6.5\n1981-09-21    11.0\n1981-09-22     6.3\n1981-09-23    10.5\n1981-09-24     7.2\n1981-09-25     7.6\n1981-09-26    10.7\n1981-09-27     7.8\nName: Temperatures, Length: 270, dtype: float64"
      ]
     },
     "execution_count": 75,
     "metadata": {},
     "output_type": "execute_result"
    }
   ],
   "source": [
    "import pandas as pd\n",
    "import numpy as np\n",
    "ts = pd.Series(np.random.randn(1000), index=pd.date_range('1/1/2000', periods=1000))\n",
    "ts = ts.cumsum()\n",
    "ts.plot()\n"
   ]
  },
  {
   "cell_type": "code",
   "execution_count": null,
   "metadata": {
    "collapsed": true
   },
   "outputs": [
    {
     "data": {
      "text/plain": [
       "Date\n1981-01-01    20.7\n1981-01-02    17.9\n1981-01-03    18.8\n1981-01-04    14.6\n1981-01-05    15.8\n1981-01-06    15.8\n1981-01-07    15.8\n1981-01-08    17.4\n1981-01-09    21.8\n1981-01-10    20.0\n1981-01-11    16.2\n1981-01-12    13.3\n1981-01-13    16.7\n1981-01-14    21.5\n1981-01-15    25.0\n1981-01-16    20.7\n1981-01-17    20.6\n1981-01-18    24.8\n1981-01-19    17.7\n1981-01-20    15.5\n1981-01-21    18.2\n1981-01-22    12.1\n1981-01-23    14.4\n1981-01-24    16.0\n1981-01-25    16.5\n1981-01-26    18.7\n1981-01-27    19.4\n1981-01-28    17.2\n1981-01-29    15.5\n1981-01-30    15.1\n              ... \n1981-08-29     8.1\n1981-08-30     5.5\n1981-08-31     6.2\n1981-09-01     8.0\n1981-09-02    10.3\n1981-09-03     9.8\n1981-09-04     9.6\n1981-09-05     8.5\n1981-09-06     7.5\n1981-09-07    11.2\n1981-09-08    14.6\n1981-09-09    11.7\n1981-09-10     7.8\n1981-09-11    12.3\n1981-09-12    10.1\n1981-09-13    11.5\n1981-09-14     7.3\n1981-09-15    10.9\n1981-09-16    14.1\n1981-09-17    10.7\n1981-09-18    16.9\n1981-09-19    10.5\n1981-09-20     6.5\n1981-09-21    11.0\n1981-09-22     6.3\n1981-09-23    10.5\n1981-09-24     7.2\n1981-09-25     7.6\n1981-09-26    10.7\n1981-09-27     7.8\nName: Temperatures, Length: 270, dtype: float64"
      ]
     },
     "execution_count": 75,
     "metadata": {},
     "output_type": "execute_result"
    }
   ],
   "source": [
    "time(1,1)"
   ]
  },
  {
   "cell_type": "code",
   "execution_count": 102,
   "metadata": {
    "collapsed": true
   },
   "outputs": [
    {
     "data": {
      "text/plain": [
       "<matplotlib.axes._subplots.AxesSubplot at 0x1a18895240>"
      ]
     },
     "execution_count": 102,
     "metadata": {},
     "output_type": "execute_result"
    },
    {
     "data": {
      "image/png": "[encoded data removed]",
      "text/plain": [
       "<Figure size 432x288 with 1 Axes>"
      ]
     },
     "metadata": {},
     "output_type": "display_data"
    }
   ],
   "source": [
    "import pandas as pd\n",
    "\n",
    "data_raw = pd.read_csv('/Users/davidkuchelmeister/Downloads/daily-minimum-temperatures-in-me.csv')\n",
    "\n",
    "data['Temperatures'] = data_raw['Temperatures'].astype('float64')\n",
    "\n",
    "data = pd.DataFrame()\n",
    "data = data_raw.Temperatures.astype(float)\n",
    "data.index = pd.to_datetime(data_raw[\"Date\"], format=\"%Y-%m-%d\")\n",
    "\n",
    "#data.index[pd.to_datetime('1981-01')]\n",
    "data = pd.DataFrame(data)\n",
    "pd.datetime(1981, 1, 1)\n",
    "\n",
    "data.\n"
   ]
  },
  {
   "cell_type": "code",
   "execution_count": null,
   "metadata": {},
   "outputs": [
    {
     "data": {
      "text/plain": [
       "Date\n1981-01-01    20.7\n1981-01-02    17.9\n1981-01-03    18.8\n1981-01-04    14.6\n1981-01-05    15.8\n1981-01-06    15.8\n1981-01-07    15.8\n1981-01-08    17.4\n1981-01-09    21.8\n1981-01-10    20.0\n1981-01-11    16.2\n1981-01-12    13.3\n1981-01-13    16.7\n1981-01-14    21.5\n1981-01-15    25.0\n1981-01-16    20.7\n1981-01-17    20.6\n1981-01-18    24.8\n1981-01-19    17.7\n1981-01-20    15.5\n1981-01-21    18.2\n1981-01-22    12.1\n1981-01-23    14.4\n1981-01-24    16.0\n1981-01-25    16.5\n1981-01-26    18.7\n1981-01-27    19.4\n1981-01-28    17.2\n1981-01-29    15.5\n1981-01-30    15.1\n              ... \n1981-08-29     8.1\n1981-08-30     5.5\n1981-08-31     6.2\n1981-09-01     8.0\n1981-09-02    10.3\n1981-09-03     9.8\n1981-09-04     9.6\n1981-09-05     8.5\n1981-09-06     7.5\n1981-09-07    11.2\n1981-09-08    14.6\n1981-09-09    11.7\n1981-09-10     7.8\n1981-09-11    12.3\n1981-09-12    10.1\n1981-09-13    11.5\n1981-09-14     7.3\n1981-09-15    10.9\n1981-09-16    14.1\n1981-09-17    10.7\n1981-09-18    16.9\n1981-09-19    10.5\n1981-09-20     6.5\n1981-09-21    11.0\n1981-09-22     6.3\n1981-09-23    10.5\n1981-09-24     7.2\n1981-09-25     7.6\n1981-09-26    10.7\n1981-09-27     7.8\nName: Temperatures, Length: 270, dtype: float64"
      ]
     },
     "execution_count": 75,
     "metadata": {},
     "output_type": "execute_result"
    }
   ],
   "source": [
    "df = pd.DataFrame(np.random.randn(1000, 4), columns=['a', 'b', 'c', 'd'])\n",
    "pd.scatter_matrix(df)\n"
   ]
  },
  {
   "cell_type": "code",
   "execution_count": null,
   "metadata": {},
   "outputs": [
    {
     "data": {
      "text/plain": [
       "Date\n1981-01-01    20.7\n1981-01-02    17.9\n1981-01-03    18.8\n1981-01-04    14.6\n1981-01-05    15.8\n1981-01-06    15.8\n1981-01-07    15.8\n1981-01-08    17.4\n1981-01-09    21.8\n1981-01-10    20.0\n1981-01-11    16.2\n1981-01-12    13.3\n1981-01-13    16.7\n1981-01-14    21.5\n1981-01-15    25.0\n1981-01-16    20.7\n1981-01-17    20.6\n1981-01-18    24.8\n1981-01-19    17.7\n1981-01-20    15.5\n1981-01-21    18.2\n1981-01-22    12.1\n1981-01-23    14.4\n1981-01-24    16.0\n1981-01-25    16.5\n1981-01-26    18.7\n1981-01-27    19.4\n1981-01-28    17.2\n1981-01-29    15.5\n1981-01-30    15.1\n              ... \n1981-08-29     8.1\n1981-08-30     5.5\n1981-08-31     6.2\n1981-09-01     8.0\n1981-09-02    10.3\n1981-09-03     9.8\n1981-09-04     9.6\n1981-09-05     8.5\n1981-09-06     7.5\n1981-09-07    11.2\n1981-09-08    14.6\n1981-09-09    11.7\n1981-09-10     7.8\n1981-09-11    12.3\n1981-09-12    10.1\n1981-09-13    11.5\n1981-09-14     7.3\n1981-09-15    10.9\n1981-09-16    14.1\n1981-09-17    10.7\n1981-09-18    16.9\n1981-09-19    10.5\n1981-09-20     6.5\n1981-09-21    11.0\n1981-09-22     6.3\n1981-09-23    10.5\n1981-09-24     7.2\n1981-09-25     7.6\n1981-09-26    10.7\n1981-09-27     7.8\nName: Temperatures, Length: 270, dtype: float64"
      ]
     },
     "execution_count": 75,
     "metadata": {},
     "output_type": "execute_result"
    }
   ],
   "source": [
    "df[\"a\"].plot.kde()\n"
   ]
  },
  {
   "cell_type": "code",
   "execution_count": 42,
   "metadata": {},
   "outputs": [
    {
     "data": {
      "text/plain": [
       "Date\n1981-01-01    20.7\n1981-01-02    17.9\n1981-01-03    18.8\n1981-01-04    14.6\n1981-01-05    15.8\n1981-01-06    15.8\n1981-01-07    15.8\n1981-01-08    17.4\n1981-01-09    21.8\n1981-01-10    20.0\n1981-01-11    16.2\n1981-01-12    13.3\n1981-01-13    16.7\n1981-01-14    21.5\n1981-01-15    25.0\n1981-01-16    20.7\n1981-01-17    20.6\n1981-01-18    24.8\n1981-01-19    17.7\n1981-01-20    15.5\n1981-01-21    18.2\n1981-01-22    12.1\n1981-01-23    14.4\n1981-01-24    16.0\n1981-01-25    16.5\n1981-01-26    18.7\n1981-01-27    19.4\n1981-01-28    17.2\n1981-01-29    15.5\n1981-01-30    15.1\n              ... \n1981-08-29     8.1\n1981-08-30     5.5\n1981-08-31     6.2\n1981-09-01     8.0\n1981-09-02    10.3\n1981-09-03     9.8\n1981-09-04     9.6\n1981-09-05     8.5\n1981-09-06     7.5\n1981-09-07    11.2\n1981-09-08    14.6\n1981-09-09    11.7\n1981-09-10     7.8\n1981-09-11    12.3\n1981-09-12    10.1\n1981-09-13    11.5\n1981-09-14     7.3\n1981-09-15    10.9\n1981-09-16    14.1\n1981-09-17    10.7\n1981-09-18    16.9\n1981-09-19    10.5\n1981-09-20     6.5\n1981-09-21    11.0\n1981-09-22     6.3\n1981-09-23    10.5\n1981-09-24     7.2\n1981-09-25     7.6\n1981-09-26    10.7\n1981-09-27     7.8\nName: Temperatures, Length: 270, dtype: float64"
      ]
     },
     "execution_count": 75,
     "metadata": {},
     "output_type": "execute_result"
    }
   ],
   "source": [
    "df.plot()\n"
   ]
  },
  {
   "cell_type": "code",
   "execution_count": null,
   "metadata": {},
   "outputs": [
    {
     "data": {
      "text/plain": [
       "Date\n1981-01-01    20.7\n1981-01-02    17.9\n1981-01-03    18.8\n1981-01-04    14.6\n1981-01-05    15.8\n1981-01-06    15.8\n1981-01-07    15.8\n1981-01-08    17.4\n1981-01-09    21.8\n1981-01-10    20.0\n1981-01-11    16.2\n1981-01-12    13.3\n1981-01-13    16.7\n1981-01-14    21.5\n1981-01-15    25.0\n1981-01-16    20.7\n1981-01-17    20.6\n1981-01-18    24.8\n1981-01-19    17.7\n1981-01-20    15.5\n1981-01-21    18.2\n1981-01-22    12.1\n1981-01-23    14.4\n1981-01-24    16.0\n1981-01-25    16.5\n1981-01-26    18.7\n1981-01-27    19.4\n1981-01-28    17.2\n1981-01-29    15.5\n1981-01-30    15.1\n              ... \n1981-08-29     8.1\n1981-08-30     5.5\n1981-08-31     6.2\n1981-09-01     8.0\n1981-09-02    10.3\n1981-09-03     9.8\n1981-09-04     9.6\n1981-09-05     8.5\n1981-09-06     7.5\n1981-09-07    11.2\n1981-09-08    14.6\n1981-09-09    11.7\n1981-09-10     7.8\n1981-09-11    12.3\n1981-09-12    10.1\n1981-09-13    11.5\n1981-09-14     7.3\n1981-09-15    10.9\n1981-09-16    14.1\n1981-09-17    10.7\n1981-09-18    16.9\n1981-09-19    10.5\n1981-09-20     6.5\n1981-09-21    11.0\n1981-09-22     6.3\n1981-09-23    10.5\n1981-09-24     7.2\n1981-09-25     7.6\n1981-09-26    10.7\n1981-09-27     7.8\nName: Temperatures, Length: 270, dtype: float64"
      ]
     },
     "execution_count": 75,
     "metadata": {},
     "output_type": "execute_result"
    }
   ],
   "source": [
    "df.boxplot()\n"
   ]
  },
  {
   "cell_type": "code",
   "execution_count": 50,
   "metadata": {},
   "outputs": [
    {
     "data": {
      "text/plain": [
       "Date\n1981-01-01    20.7\n1981-01-02    17.9\n1981-01-03    18.8\n1981-01-04    14.6\n1981-01-05    15.8\n1981-01-06    15.8\n1981-01-07    15.8\n1981-01-08    17.4\n1981-01-09    21.8\n1981-01-10    20.0\n1981-01-11    16.2\n1981-01-12    13.3\n1981-01-13    16.7\n1981-01-14    21.5\n1981-01-15    25.0\n1981-01-16    20.7\n1981-01-17    20.6\n1981-01-18    24.8\n1981-01-19    17.7\n1981-01-20    15.5\n1981-01-21    18.2\n1981-01-22    12.1\n1981-01-23    14.4\n1981-01-24    16.0\n1981-01-25    16.5\n1981-01-26    18.7\n1981-01-27    19.4\n1981-01-28    17.2\n1981-01-29    15.5\n1981-01-30    15.1\n              ... \n1981-08-29     8.1\n1981-08-30     5.5\n1981-08-31     6.2\n1981-09-01     8.0\n1981-09-02    10.3\n1981-09-03     9.8\n1981-09-04     9.6\n1981-09-05     8.5\n1981-09-06     7.5\n1981-09-07    11.2\n1981-09-08    14.6\n1981-09-09    11.7\n1981-09-10     7.8\n1981-09-11    12.3\n1981-09-12    10.1\n1981-09-13    11.5\n1981-09-14     7.3\n1981-09-15    10.9\n1981-09-16    14.1\n1981-09-17    10.7\n1981-09-18    16.9\n1981-09-19    10.5\n1981-09-20     6.5\n1981-09-21    11.0\n1981-09-22     6.3\n1981-09-23    10.5\n1981-09-24     7.2\n1981-09-25     7.6\n1981-09-26    10.7\n1981-09-27     7.8\nName: Temperatures, Length: 270, dtype: float64"
      ]
     },
     "execution_count": 75,
     "metadata": {},
     "output_type": "execute_result"
    }
   ],
   "source": [
    ""
   ]
  }
 ],
 "metadata": {
  "kernelspec": {
   "display_name": "Python 2",
   "language": "python",
   "name": "python2"
  },
  "language_info": {
   "codemirror_mode": {
    "name": "ipython",
    "version": 2
   },
   "file_extension": ".py",
   "mimetype": "text/x-python",
   "name": "python",
   "nbconvert_exporter": "python",
   "pygments_lexer": "ipython2",
   "version": "2.7.6"
  }
 },
 "nbformat": 4,
 "nbformat_minor": 0
}
